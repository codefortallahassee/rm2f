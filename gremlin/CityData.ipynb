{
 "cells": [
  {
   "cell_type": "code",
   "execution_count": 1,
   "metadata": {},
   "outputs": [],
   "source": [
    "import pandas as pd\n",
    "import numpy as np"
   ]
  },
  {
   "cell_type": "code",
   "execution_count": 46,
   "metadata": {
    "scrolled": true
   },
   "outputs": [],
   "source": [
    "def str_clean(x):\n",
    "    if x==\"\":\n",
    "        return False\n",
    "    else:\n",
    "        return True\n",
    "    \n",
    "def admin2_name(city):\n",
    "    global admin2_frame\n",
    "    state=str(city.loc[\"State\"])\n",
    "    admin2_code=str(city.loc[\"Admin2\"])\n",
    "    try:\n",
    "        city[\"Admin2 Name\"]=admin2_frame.query(\"State==@state\").query(\"Admin2Code==@admin2_code\").index[0]\n",
    "        \n",
    "    except IndexError:\n",
    "        city[:]=pd.NaT\n",
    "    return city\n",
    "\n",
    "city_frame=pd.DataFrame()\n",
    "with open('cities500.txt','r',encoding='utf-8') as f:\n",
    "    for line in f:\n",
    "        data=list(filter(str_clean, line[:-1].split('\\t')))\n",
    "        try:\n",
    "            str(int(data[3]));\n",
    "        except ValueError:\n",
    "            data.pop(3);\n",
    "        if data[7]==\"US\" and data[6]==\"PPL\":\n",
    "            if len(data)>15:\n",
    "                data.pop(10);\n",
    "            data.insert(10,\"\")\n",
    "            city_frame=city_frame.append(pd.DataFrame(data).T)\n",
    "        else:\n",
    "            continue\n",
    "\n",
    "city_frame=(\n",
    "    city_frame.drop([0,2,5,6,7,12],axis=1)\n",
    "    .rename(index=str,columns={1:\"City (US)\",3:\"Latitude\",4:\"Longitude\",10:\"Admin2 Name\",\n",
    "                                                8:\"State\",9:\"Admin2\",11:\"Population\",\n",
    "                                                13: \"Elevation (m)\", 14:\"Timezone\",15:\"Date Updated\"})\n",
    "    .set_index(\"City (US)\")\n",
    "    .sort_values(by=[\"State\",\"Admin2\"])\n",
    ")\n",
    "\n",
    "admin2_frame=pd.DataFrame()\n",
    "with open(\"admin2Codes.txt\",'r',encoding='utf-8') as read:\n",
    "    for line in read:\n",
    "        data=list(filter(str_clean, line[:-1].replace('.','\\t').split('\\t')))\n",
    "        if data[0].__contains__(\"US\"):\n",
    "            admin2_frame=admin2_frame.append(pd.DataFrame(data[:4]).T)\n",
    "        else:\n",
    "            continue\n",
    "         \n",
    "admin2_frame=(\n",
    "    admin2_frame.drop([0],axis=1)     \n",
    "    .rename(index=str,columns={1:\"State\",2:\"Admin2Code\",3:\"Division Name\"})\n",
    "    .set_index(\"Division Name\")\n",
    ")\n",
    "\n",
    "city_frame=city_frame.apply(admin2_name,axis=1)\n",
    "city_frame.dropna(how='all',inplace=True)\n",
    "\n",
    "city_frame.to_csv(\"citiesUS.csv\")"
   ]
  }
 ],
 "metadata": {
  "kernelspec": {
   "display_name": "Python 3",
   "language": "python",
   "name": "python3"
  },
  "language_info": {
   "codemirror_mode": {
    "name": "ipython",
    "version": 3
   },
   "file_extension": ".py",
   "mimetype": "text/x-python",
   "name": "python",
   "nbconvert_exporter": "python",
   "pygments_lexer": "ipython3",
   "version": "3.7.3"
  }
 },
 "nbformat": 4,
 "nbformat_minor": 2
}
