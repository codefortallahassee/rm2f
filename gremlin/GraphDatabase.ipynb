{
 "cells": [
  {
   "cell_type": "code",
   "execution_count": 1,
   "metadata": {},
   "outputs": [],
   "source": [
    "import pandas as pd\n",
    "import numpy as np\n",
    "from gremlin_python.structure.graph import Graph\n",
    "from gremlin_python.process.traversal import Cardinality\n",
    "from gremlin_python.driver.driver_remote_connection import DriverRemoteConnection"
   ]
  },
  {
   "cell_type": "code",
   "execution_count": 4,
   "metadata": {},
   "outputs": [],
   "source": [
    "#Assumes gremlin-server is running at localhost:8182; likely to change in future\n",
    "g = Graph().traversal().withRemote(DriverRemoteConnection('ws://localhost:8182/gremlin','g'))"
   ]
  },
  {
   "cell_type": "code",
   "execution_count": 66,
   "metadata": {},
   "outputs": [],
   "source": [
    "g.V().drop().iterate();\n",
    "\n",
    "city_frame=pd.read_csv(\"citiesUS.csv\")\n",
    "city_frame.set_index(\"City (US)\",inplace=True)\n",
    "\n",
    "for index,series in city_frame.iterrows():\n",
    "    if g.V().hasLabel(\"Admin1\").has(\"ID\",series[\"State\"]).toList():\n",
    "        pass;\n",
    "    else:\n",
    "        g.addV(\"Admin1\").property(\"ID\",series[\"State\"]).next()\n",
    "        \n",
    "    if (g.V().hasLabel(\"Admin1\").has(\"ID\",series[\"State\"]).out()\n",
    "                .hasLabel(\"Admin2\").has(\"ID\",series[\"Admin2\"]).toList()):\n",
    "        county=(g.V().hasLabel(\"Admin1\").has(\"ID\",series[\"State\"]).out()\n",
    "                .hasLabel(\"Admin2\").has(\"ID\",series[\"Admin2\"]).next())\n",
    "    else:\n",
    "        county=(g.addV(\"Admin2\").property(\"ID\",series[\"Admin2\"]).\n",
    "             property(\"name\",series[\"Admin2 Name\"]).next())\n",
    "        state=g.V().hasLabel(\"Admin1\").has(\"ID\",series[\"State\"]).next()\n",
    "        g.V(state).addE(\"Devolution\").to(county).next()\n",
    "        g.V(county).addE(\"Centralization\").to(state).next()\n",
    "        \n",
    "    city=(g.addV(\"City\").property(\"name\",index).next())\n",
    "    g.V(county).addE(\"Devolution\").to(city).next()\n",
    "    g.V(city).addE(\"Centralization\").to(county).next()\n",
    "    \n",
    "    series_dict=series.drop(labels=[\"Admin2\", \"Admin2 Name\",\"State\"]).to_dict()\n",
    "    \n",
    "    for key,value in series_dict.items():\n",
    "        if (key==\"Longitude\" or key==\"Latitude\"):\n",
    "            value=round(float(value),4)\n",
    "        g.V(city).property(key,value).next()\n",
    "\n",
    "#g.V().drop().iterate();"
   ]
  }
 ],
 "metadata": {
  "kernelspec": {
   "display_name": "Python 3",
   "language": "python",
   "name": "python3"
  },
  "language_info": {
   "codemirror_mode": {
    "name": "ipython",
    "version": 3
   },
   "file_extension": ".py",
   "mimetype": "text/x-python",
   "name": "python",
   "nbconvert_exporter": "python",
   "pygments_lexer": "ipython3",
   "version": "3.7.3"
  }
 },
 "nbformat": 4,
 "nbformat_minor": 2
}
